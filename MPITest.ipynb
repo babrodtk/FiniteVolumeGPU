{
 "cells": [
  {
   "cell_type": "markdown",
   "metadata": {},
   "source": [
    "# Starting cluster\n",
    "\n",
    "## Prerequisites\n",
    "First, you need to install MPI, on windows use MS-MPI:\n",
    "https://msdn.microsoft.com/en-us/library/bb524831(v=vs.85).aspx\n",
    "\n",
    "\n",
    "## With a profile (not working)\n",
    "In theory, you should be able to create a profile using\n",
    "```\n",
    "ipython profile create --parallel --profile=myprofile\n",
    "```\n",
    "and then set\n",
    "```\n",
    "c.IPClusterEngines.engine_launcher_class = 'MPIEngineSetLauncher'\n",
    "```\n",
    "in ```<IPYTHON-DIR>/profile_myprofile/ipcluster_config.py```. This should then enable you to start a cluster using\n",
    "```\n",
    "ipcluster start --profile=myprofile\n",
    "```\n",
    "or alternatively through the Clusters tab in Jupyter\n",
    "\n",
    "\n",
    "## Without a profile (not working)\n",
    "An alternative is to run\n",
    "```\n",
    "ipcluster start --engines=MPI\n",
    "```\n",
    "\n",
    "\n",
    "## Manual start (working)\n",
    "This, however, does *not* work for me on Windows. What does work is the following:\n",
    "\n",
    "Start a controller using\n",
    "```\n",
    "ipcontroller --ip='*'\n",
    "```\n",
    "and then start several engines using mpiexec:\n",
    "```\n",
    "mpiexec -n 4 ipengine --mpi\n",
    "```"
   ]
  },
  {
   "cell_type": "code",
   "execution_count": 1,
   "metadata": {},
   "outputs": [
    {
     "name": "stdout",
     "output_type": "stream",
     "text": [
      "profile: default\n",
      "Number of ids: 4\n",
      "IDs: [0, 1, 2, 3]\n"
     ]
    }
   ],
   "source": [
    "import ipyparallel\n",
    "\n",
    "# attach to a running cluster\n",
    "cluster = ipyparallel.Client()#profile='mpi')\n",
    "\n",
    "print('profile:', cluster.profile)\n",
    "print('Number of ids:', len(cluster.ids))\n",
    "print(\"IDs:\", cluster.ids) # Print process id numbers"
   ]
  },
  {
   "cell_type": "code",
   "execution_count": 2,
   "metadata": {},
   "outputs": [
    {
     "name": "stdout",
     "output_type": "stream",
     "text": [
      "[stdout:0] Hello! I'm rank 0 from 4 running in total...\n",
      "[stdout:1] Hello! I'm rank 1 from 4 running in total...\n",
      "[stdout:2] Hello! I'm rank 2 from 4 running in total...\n",
      "[stdout:3] Hello! I'm rank 3 from 4 running in total...\n"
     ]
    }
   ],
   "source": [
    "%%px\n",
    "\n",
    "from mpi4py import MPI\n",
    "\n",
    "comm = MPI.COMM_WORLD\n",
    "\n",
    "print(\"Hello! I'm rank %d from %d running in total...\" % (comm.rank, comm.size))\n",
    "\n",
    "comm.Barrier()   # wait for everybody to synchronize _here_"
   ]
  },
  {
   "cell_type": "code",
   "execution_count": 3,
   "metadata": {},
   "outputs": [
    {
     "name": "stdout",
     "output_type": "stream",
     "text": [
      "[stdout:0] \n",
      "Starting\n",
      "0: sent data to 1: [72 15 76 64 65 38 95  9 93 19 42 48 30  7 46 35 59 81 68 47 20 70 91 80\n",
      " 49 23  1 34 56 82 11 31 29 78 92 58 77 17 53 79 60 27 51  5 41 52 87 74\n",
      " 86 54 33 39 83 73 12 66 40 55 44 84 26  6 50 21 97 71 62 37 90 57 89 43\n",
      " 28  4 25 32 85 69  3 18 10  0 24 22 63 16 75 96 99 67  2 45 61 13 88 36\n",
      " 14 94 98  8]\n",
      "[stdout:1] \n",
      "Starting\n",
      "1: received data from 0: [72 15 76 64 65 38 95  9 93 19 42 48 30  7 46 35 59 81 68 47 20 70 91 80\n",
      " 49 23  1 34 56 82 11 31 29 78 92 58 77 17 53 79 60 27 51  5 41 52 87 74\n",
      " 86 54 33 39 83 73 12 66 40 55 44 84 26  6 50 21 97 71 62 37 90 57 89 43\n",
      " 28  4 25 32 85 69  3 18 10  0 24 22 63 16 75 96 99 67  2 45 61 13 88 36\n",
      " 14 94 98  8]\n",
      "[stdout:2] \n",
      "Starting\n",
      "2: idle\n",
      "[stdout:3] \n",
      "Starting\n",
      "3: idle\n"
     ]
    }
   ],
   "source": [
    "%%px\n",
    "\n",
    "from mpi4py import MPI\n",
    "import numpy\n",
    "\n",
    "comm = MPI.COMM_WORLD\n",
    "rank = comm.Get_rank()\n",
    "\n",
    "print(\"Starting\")\n",
    "# passing MPI datatypes explicitly\n",
    "if rank == 0:\n",
    "    data = numpy.arange(100, dtype='i')\n",
    "    numpy.random.shuffle(data)\n",
    "    comm.Send([data, MPI.INT], dest=1, tag=77)\n",
    "    print(\"{0}: sent data to 1: {1}\".format(rank, data))\n",
    "elif rank == 1:\n",
    "    data = numpy.empty(100, dtype='i')\n",
    "    comm.Recv([data, MPI.INT], source=0, tag=77)\n",
    "    print(\"{0}: received data from 0: {1}\".format(rank, data))\n",
    "else:\n",
    "    print(\"{0}: idle\".format(rank))"
   ]
  },
  {
   "cell_type": "code",
   "execution_count": 4,
   "metadata": {},
   "outputs": [],
   "source": [
    "%%px\n",
    "\n",
    "#Lets have matplotlib \"inline\"\n",
    "%matplotlib inline\n",
    "\n",
    "#Python 2.7 compatibility\n",
    "from __future__ import print_function\n",
    "\n",
    "#Import packages we need\n",
    "import numpy as np\n",
    "from matplotlib import animation, rc\n",
    "from matplotlib import pyplot as plt\n",
    "#import mpld3\n",
    "\n",
    "import subprocess\n",
    "import os\n",
    "import gc\n",
    "import datetime\n",
    "\n",
    "import pycuda.driver as cuda\n",
    "\n",
    "try:\n",
    "    from StringIO import StringIO\n",
    "except ImportError:\n",
    "    from io import StringIO\n",
    "\n",
    "#Finally, import our simulator\n",
    "from SWESimulators import Common, HLL2, PlotHelper"
   ]
  },
  {
   "cell_type": "code",
   "execution_count": 5,
   "metadata": {},
   "outputs": [
    {
     "name": "stdout",
     "output_type": "stream",
     "text": [
      "[stdout:0] \n",
      "No CUDA context available\n",
      "CUDA version (9, 1, 0)\n",
      "Driver version 9010\n",
      "Using GeForce 840M\n",
      " => compute capability: (5, 0)\n",
      " => memory: 2048.0 MB\n",
      "Created context <231790149408>\n",
      "[stdout:1] \n",
      "No CUDA context available\n",
      "CUDA version (9, 1, 0)\n",
      "Driver version 9010\n",
      "Using GeForce 840M\n",
      " => compute capability: (5, 0)\n",
      " => memory: 2048.0 MB\n",
      "Created context <969490393648>\n",
      "[stdout:2] \n",
      "No CUDA context available\n",
      "CUDA version (9, 1, 0)\n",
      "Driver version 9010\n",
      "Using GeForce 840M\n",
      " => compute capability: (5, 0)\n",
      " => memory: 2048.0 MB\n",
      "Created context <557075755584>\n",
      "[stdout:3] \n",
      "No CUDA context available\n",
      "CUDA version (9, 1, 0)\n",
      "Driver version 9010\n",
      "Using GeForce 840M\n",
      " => compute capability: (5, 0)\n",
      " => memory: 2048.0 MB\n",
      "Created context <77307610272>\n"
     ]
    }
   ],
   "source": [
    "%%px \n",
    "\n",
    "import atexit\n",
    "def exitfunc():\n",
    "    #Clean up old context if any:\n",
    "    if 'cuda_context' in globals():\n",
    "        print(\"Cleaning up CUDA context!\")\n",
    "        global cuda_context\n",
    "        del cuda_context\n",
    "        gc.collect()\n",
    "    else:\n",
    "        print(\"No CUDA context available\")\n",
    "        gc.collect()\n",
    "        \n",
    "atexit.register(exitfunc)\n",
    "exitfunc()\n",
    "    \n",
    "cuda_context = Common.CudaContext(verbose=True, blocking=False)"
   ]
  },
  {
   "cell_type": "code",
   "execution_count": 6,
   "metadata": {},
   "outputs": [],
   "source": [
    "%%px\n",
    "\n",
    "def gen_test_data(nx, ny, g, num_ghost_cells):\n",
    "    width = 100.0\n",
    "    height = 100.0\n",
    "    dx = width / float(nx)\n",
    "    dy = height / float(ny)\n",
    "\n",
    "    x_center = dx*nx/2.0\n",
    "    y_center = dy*ny/2.0\n",
    "    \n",
    "    h  = np.zeros((ny+2*num_ghost_cells, nx+2*num_ghost_cells), dtype=np.float32); \n",
    "    hu = np.zeros((ny+2*num_ghost_cells, nx+2*num_ghost_cells), dtype=np.float32);\n",
    "    hv = np.zeros((ny+2*num_ghost_cells, nx+2*num_ghost_cells), dtype=np.float32);\n",
    "    \n",
    "    comm = MPI.COMM_WORLD\n",
    "\n",
    "    #Create a gaussian \"dam break\" that will not form shocks\n",
    "    size = width / 3.0\n",
    "    dt = 10**10\n",
    "    for j in range(-num_ghost_cells, ny+num_ghost_cells):\n",
    "        for i in range(-num_ghost_cells, nx+num_ghost_cells):\n",
    "            x = dx*(i+0.5) - x_center\n",
    "            y = dy*(j+0.5) - y_center\n",
    "            \n",
    "            h[j+num_ghost_cells, i+num_ghost_cells] = 0.5 + 0.1*(comm.rank + np.exp(-(x**2/size)))\n",
    "            hu[j+num_ghost_cells, i+num_ghost_cells] = 0.1*np.exp(-(x**2/size))\n",
    "    \n",
    "    max_h_estimate = comm.rank* 0.1 + 0.6\n",
    "    max_u_estimate = 0.1*2.0\n",
    "    dt = min(dx, dy) / (max_u_estimate + np.sqrt(g*max_h_estimate))\n",
    "    \n",
    "    return h, hu, hv, dx, dy, dt"
   ]
  },
  {
   "cell_type": "code",
   "execution_count": 7,
   "metadata": {},
   "outputs": [],
   "source": [
    "%%px\n",
    "\n",
    "def sanity_check(variable, variable_name):\n",
    "    maxval = np.amax(variable)\n",
    "    minval = np.amin(variable)\n",
    "    if (np.isnan(maxval) or np.isnan(minval)):\n",
    "        print(\"=== WARNING ===\")\n",
    "        print(variable_name + \" contains NaN values\")\n",
    "        print(\"=== WARNING ===\")\n",
    "\n",
    "def run_benchmark(simulator, courant_number, nx, ny, ghost_cells, g=9.81):\n",
    "    h0, hu0, hv0, dx, dy, dt = gen_test_data(nx, ny, g, ghost_cells)\n",
    "    dt = dt * courant_number\n",
    "\n",
    "    #Initialize simulator\n",
    "    with Common.Timer(simulator.__name__ + \"_\" + str(nx)) as timer:\n",
    "        sim = simulator(cuda_context, \\\n",
    "                        h0, hu0, hv0, \\\n",
    "                        nx, ny, \\\n",
    "                        dx, dy, dt, \\\n",
    "                        g)\n",
    "\n",
    "        t = sim.step(2.0)\n",
    "\n",
    "        h, hu, hv = sim.download()\n",
    "\n",
    "        h = h[ghost_cells, ghost_cells:-ghost_cells]\n",
    "        hu = hu[ghost_cells, ghost_cells:-ghost_cells]\n",
    "        hv = hv[ghost_cells, ghost_cells:-ghost_cells]\n",
    "\n",
    "        sanity_check(h, \"h\")\n",
    "        sanity_check(hu, \"hu\")\n",
    "        sanity_check(hv, \"hv\")\n",
    "\n",
    "        return [h, hu, hv]"
   ]
  },
  {
   "cell_type": "code",
   "execution_count": 8,
   "metadata": {},
   "outputs": [
    {
     "name": "stdout",
     "output_type": "stream",
     "text": [
      "[stdout:0] => HLL2_1024 5068.608284 ms\n",
      "[stdout:1] => HLL2_1024 5038.588524 ms\n",
      "[stdout:2] => HLL2_1024 5084.618568 ms\n",
      "[stdout:3] => HLL2_1024 5121.647835 ms\n"
     ]
    },
    {
     "data": {
      "text/plain": [
       "[output:0]"
      ]
     },
     "metadata": {},
     "output_type": "display_data"
    },
    {
     "data": {
      "image/png": "[encoded data removed]",
      "text/plain": [
       "<Figure size 432x288 with 1 Axes>"
      ]
     },
     "metadata": {
      "engine": 0
     },
     "output_type": "display_data"
    },
    {
     "data": {
      "text/plain": [
       "[output:1]"
      ]
     },
     "metadata": {},
     "output_type": "display_data"
    },
    {
     "data": {
      "image/png": "[encoded data removed]",
      "text/plain": [
       "<Figure size 432x288 with 1 Axes>"
      ]
     },
     "metadata": {
      "engine": 1
     },
     "output_type": "display_data"
    },
    {
     "data": {
      "text/plain": [
       "[output:2]"
      ]
     },
     "metadata": {},
     "output_type": "display_data"
    },
    {
     "data": {
      "image/png": "[encoded data removed]",
      "text/plain": [
       "<Figure size 432x288 with 1 Axes>"
      ]
     },
     "metadata": {
      "engine": 2
     },
     "output_type": "display_data"
    },
    {
     "data": {
      "text/plain": [
       "[output:3]"
      ]
     },
     "metadata": {},
     "output_type": "display_data"
    },
    {
     "data": {
      "image/png": "[encoded data removed]",
      "text/plain": [
       "<Figure size 432x288 with 1 Axes>"
      ]
     },
     "metadata": {
      "engine": 3
     },
     "output_type": "display_data"
    }
   ],
   "source": [
    "%%px\n",
    "\n",
    "h, hu, hv = run_benchmark(simulator=HLL2.HLL2, \\\n",
    "              courant_number=0.95, \\\n",
    "              nx=1024, ny=1, \\\n",
    "              ghost_cells=2)\n",
    "\n",
    "plt.figure()\n",
    "plt.plot(h)\n",
    "plt.plot(hu)\n",
    "plt.plot(hv)\n",
    "plt.title(\"Simulation results, rank=\" + str(comm.rank))\n",
    "plt.show()"
   ]
  },
  {
   "cell_type": "code",
   "execution_count": null,
   "metadata": {},
   "outputs": [],
   "source": []
  }
 ],
 "metadata": {
  "kernelspec": {
   "display_name": "Python 3",
   "language": "python",
   "name": "python3"
  },
  "language_info": {
   "codemirror_mode": {
    "name": "ipython",
    "version": 3
   },
   "file_extension": ".py",
   "mimetype": "text/x-python",
   "name": "python",
   "nbconvert_exporter": "python",
   "pygments_lexer": "ipython3",
   "version": "3.6.5"
  }
 },
 "nbformat": 4,
 "nbformat_minor": 2
}
